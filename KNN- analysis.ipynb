{
 "cells": [
  {
   "cell_type": "code",
   "execution_count": 31,
   "metadata": {},
   "outputs": [],
   "source": [
    "from sklearn.neighbors import KNeighborsClassifier \n",
    "from sklearn import metrics \n",
    "from sklearn.model_selection import train_test_split,cross_val_score"
   ]
  },
  {
   "cell_type": "code",
   "execution_count": 32,
   "metadata": {},
   "outputs": [],
   "source": [
    "import pandas as pd\n",
    "df = pd.read_excel('Data for classification.xlsx', shuffle=True)\n",
    "df.drop('ID', axis=1, inplace=True)\n"
   ]
  },
  {
   "cell_type": "code",
   "execution_count": 33,
   "metadata": {},
   "outputs": [
    {
     "name": "stdout",
     "output_type": "stream",
     "text": [
      "0.9718282358087257 ---- 2\n",
      "0.9866181813543893 ---- 3\n",
      "0.9863796595047947 ---- 4\n",
      "0.9869929081606186 ---- 5\n",
      "0.986958855183406 ---- 6\n",
      "0.9869929081606186 ---- 7\n",
      "0.9869929081606186 ---- 8\n",
      "0.9869929081606186 ---- 9\n",
      "0.9869929081606186 ---- 10\n",
      "0.9869929081606186 ---- 11\n",
      "0.9869929081606186 ---- 12\n",
      "0.9869929081606186 ---- 13\n",
      "0.9869929081606186 ---- 14\n",
      "0.9869929081606186 ---- 15\n",
      "0.9869929081606186 ---- 16\n",
      "0.9869929081606186 ---- 17\n",
      "0.9869929081606186 ---- 18\n",
      "0.9869929081606186 ---- 19\n"
     ]
    }
   ],
   "source": [
    "values={'feature_1':df['feature_1'].mean(),'feature_2':df['feature_2'].mean(),'feature_3':1,'feature_4':0,'feature_5':0,'feature_6':1,'feature_7':0,'feature_8':0,'feature_9':0,'feature_10':df['feature_10'].mean(),'feature_11':df['feature_11'].mean(),'feature_12':df['feature_12'].mean(),'feature_13':0,'feature_14':0,'feature_15':df['feature_15'].mean(),'feature_16':df['feature_16'].mean(),'feature_17':df['feature_17'].mean(),'feature_18':0,'feature_19':0,'Target':1}\n",
    "df=df.fillna(value=values)\n",
    "label=df['Target']\n",
    "df.drop('Target', axis=1, inplace=True)\n",
    "for i in range(2,20):\n",
    "    model_knn = KNeighborsClassifier(n_neighbors = i)\n",
    "    print cross_val_score(model_knn,df,label,scoring='f1').mean(),'----',i"
   ]
  },
  {
   "cell_type": "code",
   "execution_count": null,
   "metadata": {},
   "outputs": [],
   "source": []
  }
 ],
 "metadata": {
  "kernelspec": {
   "display_name": "Python 2",
   "language": "python",
   "name": "python2"
  },
  "language_info": {
   "codemirror_mode": {
    "name": "ipython",
    "version": 2
   },
   "file_extension": ".py",
   "mimetype": "text/x-python",
   "name": "python",
   "nbconvert_exporter": "python",
   "pygments_lexer": "ipython2",
   "version": "2.7.12"
  }
 },
 "nbformat": 4,
 "nbformat_minor": 2
}
