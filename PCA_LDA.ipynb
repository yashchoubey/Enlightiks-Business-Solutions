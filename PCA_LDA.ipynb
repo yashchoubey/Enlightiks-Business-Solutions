{
 "cells": [
  {
   "cell_type": "code",
   "execution_count": 1,
   "metadata": {},
   "outputs": [],
   "source": [
    "import pandas as pd\n",
    "df = pd.read_excel('Data for classification.xlsx', shuffle=True)"
   ]
  },
  {
   "cell_type": "code",
   "execution_count": 2,
   "metadata": {},
   "outputs": [
    {
     "name": "stdout",
     "output_type": "stream",
     "text": [
      "feature_1     0\n",
      "feature_2     0\n",
      "feature_4     0\n",
      "feature_5     0\n",
      "feature_6     0\n",
      "feature_7     0\n",
      "feature_8     0\n",
      "feature_11    0\n",
      "feature_12    0\n",
      "feature_13    0\n",
      "feature_14    0\n",
      "feature_15    0\n",
      "feature_16    0\n",
      "feature_17    0\n",
      "feature_18    0\n",
      "feature_19    0\n",
      "Target        0\n",
      "dtype: int64\n"
     ]
    }
   ],
   "source": [
    "values={'feature_1':df['feature_1'].mean(),'feature_2':df['feature_2'].mean(),'feature_3':1,'feature_4':0,'feature_5':0,'feature_6':1,'feature_7':0,'feature_8':1,'feature_9':0,'feature_11':df['feature_11'].mean(),'feature_12':3,'feature_13':1,'feature_14':1,'feature_15':0,'feature_16':0,'feature_17':1,'feature_18':0,'feature_19':0,'Target':0}\n",
    "df=df.fillna(value=values)\n",
    "\n",
    "df.drop('ID', axis=1, inplace=True)\n",
    "df.drop('feature_3', axis=1, inplace=True)\n",
    "# df.drop('feature_8', axis=1, inplace=True)\n",
    "df.drop('feature_9', axis=1, inplace=True)\n",
    "df.drop('feature_10', axis=1, inplace=True)\n",
    "# df.drop('feature_13', axis=1, inplace=True)\n",
    "# df.drop('feature_14', axis=1, inplace=True)\n",
    "\n",
    "print(df.isnull().sum())\n"
   ]
  },
  {
   "cell_type": "code",
   "execution_count": 3,
   "metadata": {},
   "outputs": [],
   "source": [
    "\n",
    "label=df['Target'].fillna(0)\n",
    "label=label.astype('int')\n",
    "df.drop('Target', axis=1, inplace=True)\n"
   ]
  },
  {
   "cell_type": "code",
   "execution_count": 4,
   "metadata": {},
   "outputs": [],
   "source": [
    "from sklearn.preprocessing import Imputer\n",
    "from sklearn.discriminant_analysis import LinearDiscriminantAnalysis\n",
    "from sklearn.model_selection import KFold\n",
    "from sklearn.model_selection import cross_val_score\n",
    "from sklearn.preprocessing import StandardScaler\n",
    "from sklearn.decomposition import PCA"
   ]
  },
  {
   "cell_type": "code",
   "execution_count": 5,
   "metadata": {},
   "outputs": [
    {
     "name": "stdout",
     "output_type": "stream",
     "text": [
      "pca_component:  1 --- f1_score:  0.050316999785084894 -- n_splits:  2\n",
      "pca_component:  1 --- f1_score:  0.05262282940300753 -- n_splits:  5\n",
      "pca_component:  1 --- f1_score:  0.053698401453866104 -- n_splits:  8\n",
      "pca_component:  2 --- f1_score:  0.075076165102227 -- n_splits:  2\n",
      "pca_component:  2 --- f1_score:  0.07608794011075207 -- n_splits:  5\n",
      "pca_component:  3 --- f1_score:  0.0858226647700332 -- n_splits:  2\n",
      "pca_component:  3 --- f1_score:  0.08781607770291473 -- n_splits:  5\n",
      "pca_component:  3 --- f1_score:  0.08895066284928474 -- n_splits:  8\n",
      "pca_component:  4 --- f1_score:  0.4269030129810482 -- n_splits:  2\n",
      "pca_component:  5 --- f1_score:  0.48715614533265295 -- n_splits:  2\n",
      "pca_component:  6 --- f1_score:  0.49019247943393957 -- n_splits:  2\n",
      "pca_component:  7 --- f1_score:  0.5002553575267548 -- n_splits:  2\n",
      "pca_component:  8 --- f1_score:  0.5088036802774607 -- n_splits:  2\n",
      "pca_component:  9 --- f1_score:  0.509915786031967 -- n_splits:  2\n",
      "pca_component:  10 --- f1_score:  0.589580659850147 -- n_splits:  2\n",
      "pca_component:  11 --- f1_score:  0.5897883096900731 -- n_splits:  2\n",
      "pca_component:  12 --- f1_score:  0.5907466429914263 -- n_splits:  2\n"
     ]
    }
   ],
   "source": [
    "# evaluate an LDA model on the dataset using k-fold cross validation\n",
    "model = LinearDiscriminantAnalysis()\n",
    "df=StandardScaler().fit_transform(df)\n",
    "f1_score=0\n",
    "for i in range(1,16):\n",
    "    pca = PCA(i)\n",
    "    principalComponents = pca.fit_transform(df)\n",
    "    for j in range(2,11):\n",
    "        kfold = KFold(n_splits=j, random_state=7)\n",
    "        result = cross_val_score(model, principalComponents, label, cv=kfold, scoring='f1')\n",
    "        if f1_score<result.mean():\n",
    "            f1_score=result.mean()\n",
    "            print \"pca_component: \",i,'---',\"f1_score: \",(result.mean()),'--',\"n_splits: \",j"
   ]
  },
  {
   "cell_type": "code",
   "execution_count": 6,
   "metadata": {},
   "outputs": [],
   "source": [
    "from sklearn.model_selection import train_test_split\n",
    "from sklearn.feature_selection import SelectFromModel\n",
    "from sklearn.metrics import accuracy_score,f1_score\n"
   ]
  },
  {
   "cell_type": "code",
   "execution_count": 7,
   "metadata": {},
   "outputs": [
    {
     "name": "stdout",
     "output_type": "stream",
     "text": [
      "accuracy_score: 0.9207033842070338\n",
      "f1_score: 0.6306027820710974\n"
     ]
    }
   ],
   "source": [
    "\n",
    "model = LinearDiscriminantAnalysis()\n",
    "pca = PCA(15)\n",
    "principalComponents = pca.fit_transform(df)\n",
    "\n",
    "X_train, X_test, y_train, y_test = train_test_split(principalComponents, label, test_size=0.2)\n",
    "\n",
    "model.fit(X_train, y_train)\n",
    "# make predictions for test data and evaluate\n",
    "y_pred = model.predict(X_test)\n",
    "f1 = f1_score(y_test, y_pred)\n",
    "acc = accuracy_score(y_test, y_pred)\n",
    "print\"accuracy_score: \"+str(acc)\n",
    "print\"f1_score: \"+str(f1)"
   ]
  }
 ],
 "metadata": {
  "kernelspec": {
   "display_name": "Python 2",
   "language": "python",
   "name": "python2"
  },
  "language_info": {
   "codemirror_mode": {
    "name": "ipython",
    "version": 2
   },
   "file_extension": ".py",
   "mimetype": "text/x-python",
   "name": "python",
   "nbconvert_exporter": "python",
   "pygments_lexer": "ipython2",
   "version": "2.7.12"
  }
 },
 "nbformat": 4,
 "nbformat_minor": 2
}
