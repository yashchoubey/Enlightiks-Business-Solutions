{
 "cells": [
  {
   "cell_type": "code",
   "execution_count": 1,
   "metadata": {},
   "outputs": [],
   "source": [
    "import pandas as pd\n",
    "df = pd.read_excel('Data for classification.xlsx', shuffle=True)"
   ]
  },
  {
   "cell_type": "code",
   "execution_count": 2,
   "metadata": {},
   "outputs": [
    {
     "name": "stdout",
     "output_type": "stream",
     "text": [
      "feature_1     0\n",
      "feature_2     0\n",
      "feature_4     0\n",
      "feature_5     0\n",
      "feature_6     0\n",
      "feature_7     0\n",
      "feature_8     0\n",
      "feature_11    0\n",
      "feature_12    0\n",
      "feature_13    0\n",
      "feature_14    0\n",
      "feature_15    0\n",
      "feature_16    0\n",
      "feature_17    0\n",
      "feature_18    0\n",
      "feature_19    0\n",
      "Target        0\n",
      "dtype: int64\n"
     ]
    }
   ],
   "source": [
    "# values={'feature_1':df['feature_1'].mean(),'feature_2':df['feature_2'].mean(),'feature_3':1,'feature_4':0,'feature_5':0,'feature_6':1,'feature_7':0,'feature_8':1,'feature_9':0,'feature_10':df['feature_10'].mean(),'feature_11':df['feature_11'].mean(),'feature_12':3,'feature_13':1,'feature_14':1,'feature_15':0,'feature_16':0,'feature_17':1,'feature_18':0,'feature_19':0,'Target':0}\n",
    "# df=df.fillna(value=values)\n",
    "df=df.fillna(0)\n",
    "df.drop('ID', axis=1, inplace=True)\n",
    "df.drop('feature_3', axis=1, inplace=True)\n",
    "# df.drop('feature_8', axis=1, inplace=True)\n",
    "df.drop('feature_9', axis=1, inplace=True)\n",
    "df.drop('feature_10', axis=1, inplace=True)\n",
    "# df.drop('feature_13', axis=1, inplace=True)\n",
    "# df.drop('feature_14', axis=1, inplace=True)\n",
    "\n",
    "print(df.isnull().sum())\n"
   ]
  },
  {
   "cell_type": "code",
   "execution_count": 3,
   "metadata": {},
   "outputs": [],
   "source": [
    "\n",
    "label=df['Target'].fillna(0)\n",
    "label=label.astype('int')\n",
    "df.drop('Target', axis=1, inplace=True)\n"
   ]
  },
  {
   "cell_type": "code",
   "execution_count": 4,
   "metadata": {},
   "outputs": [],
   "source": [
    "from sklearn.preprocessing import Imputer\n",
    "from sklearn.discriminant_analysis import LinearDiscriminantAnalysis\n",
    "from sklearn.model_selection import KFold\n",
    "from sklearn.model_selection import cross_val_score\n",
    "from sklearn.preprocessing import StandardScaler\n",
    "from sklearn.decomposition import PCA"
   ]
  },
  {
   "cell_type": "code",
   "execution_count": 5,
   "metadata": {},
   "outputs": [
    {
     "name": "stderr",
     "output_type": "stream",
     "text": [
      "/usr/local/lib/python2.7/dist-packages/sklearn/metrics/classification.py:1135: UndefinedMetricWarning: F-score is ill-defined and being set to 0.0 due to no predicted samples.\n",
      "  'precision', 'predicted', average, warn_for)\n"
     ]
    },
    {
     "name": "stdout",
     "output_type": "stream",
     "text": [
      "pca_component:  2 --- f1_score:  0.17742977499075058 -- n_splits:  2\n",
      "pca_component:  2 --- f1_score:  0.1835016835016835 -- n_splits:  3\n",
      "pca_component:  3 --- f1_score:  0.18707936383476434 -- n_splits:  2\n",
      "pca_component:  4 --- f1_score:  0.2027461291264972 -- n_splits:  2\n",
      "pca_component:  4 --- f1_score:  0.20275575362749373 -- n_splits:  3\n",
      "pca_component:  4 --- f1_score:  0.20489273118194865 -- n_splits:  4\n",
      "pca_component:  4 --- f1_score:  0.20540689668635712 -- n_splits:  6\n",
      "pca_component:  4 --- f1_score:  0.20563119202965532 -- n_splits:  7\n",
      "pca_component:  4 --- f1_score:  0.20706412860794254 -- n_splits:  8\n",
      "pca_component:  5 --- f1_score:  0.24437866490777904 -- n_splits:  2\n",
      "pca_component:  6 --- f1_score:  0.2447026833516353 -- n_splits:  2\n",
      "pca_component:  7 --- f1_score:  0.27736385440402916 -- n_splits:  2\n",
      "pca_component:  7 --- f1_score:  0.2783493122701742 -- n_splits:  3\n",
      "pca_component:  8 --- f1_score:  0.28396342600993923 -- n_splits:  3\n",
      "pca_component:  9 --- f1_score:  0.3416510066844893 -- n_splits:  2\n",
      "pca_component:  9 --- f1_score:  0.3468617590642406 -- n_splits:  3\n",
      "pca_component:  9 --- f1_score:  0.3475734354612407 -- n_splits:  6\n",
      "pca_component:  10 --- f1_score:  0.3709973601277949 -- n_splits:  2\n",
      "pca_component:  10 --- f1_score:  0.37234599530796947 -- n_splits:  3\n",
      "pca_component:  10 --- f1_score:  0.37282662438249775 -- n_splits:  6\n",
      "pca_component:  11 --- f1_score:  0.442751851869031 -- n_splits:  2\n",
      "pca_component:  11 --- f1_score:  0.44325451115355136 -- n_splits:  3\n",
      "pca_component:  13 --- f1_score:  0.44623535115830804 -- n_splits:  2\n",
      "pca_component:  14 --- f1_score:  0.44699598606211943 -- n_splits:  2\n"
     ]
    }
   ],
   "source": [
    "# evaluate an LDA model on the dataset using k-fold cross validation\n",
    "model = LinearDiscriminantAnalysis()\n",
    "df=StandardScaler().fit_transform(df)\n",
    "f1_score=0\n",
    "for i in range(1,16):\n",
    "    pca = PCA(i)\n",
    "    principalComponents = pca.fit_transform(df)\n",
    "    for j in range(2,11):\n",
    "        kfold = KFold(n_splits=j, random_state=7)\n",
    "        result = cross_val_score(model, principalComponents, label, cv=kfold, scoring='f1')\n",
    "        if f1_score<result.mean():\n",
    "            f1_score=result.mean()\n",
    "            print \"pca_component: \",i,'---',\"f1_score: \",(result.mean()),'--',\"n_splits: \",j"
   ]
  },
  {
   "cell_type": "code",
   "execution_count": 6,
   "metadata": {},
   "outputs": [],
   "source": [
    "from sklearn.model_selection import train_test_split\n",
    "from sklearn.feature_selection import SelectFromModel\n",
    "from sklearn.metrics import accuracy_score,f1_score\n"
   ]
  },
  {
   "cell_type": "code",
   "execution_count": 8,
   "metadata": {},
   "outputs": [
    {
     "name": "stdout",
     "output_type": "stream",
     "text": [
      "accuracy_score: 0.8868613138686131\n",
      "f1_score: 0.44189852700490995\n"
     ]
    }
   ],
   "source": [
    "model = LinearDiscriminantAnalysis()\n",
    "pca = PCA(14)\n",
    "principalComponents = pca.fit_transform(df)\n",
    "\n",
    "X_train, X_test, y_train, y_test = train_test_split(principalComponents, label, test_size=0.2)\n",
    "\n",
    "model.fit(X_train, y_train)\n",
    "# make predictions for test data and evaluate\n",
    "y_pred = model.predict(X_test)\n",
    "f1 = f1_score(y_test, y_pred)\n",
    "acc = accuracy_score(y_test, y_pred)\n",
    "print\"accuracy_score: \"+str(acc)\n",
    "print\"f1_score: \"+str(f1)"
   ]
  },
  {
   "cell_type": "code",
   "execution_count": null,
   "metadata": {},
   "outputs": [],
   "source": []
  }
 ],
 "metadata": {
  "kernelspec": {
   "display_name": "Python 2",
   "language": "python",
   "name": "python2"
  },
  "language_info": {
   "codemirror_mode": {
    "name": "ipython",
    "version": 2
   },
   "file_extension": ".py",
   "mimetype": "text/x-python",
   "name": "python",
   "nbconvert_exporter": "python",
   "pygments_lexer": "ipython2",
   "version": "2.7.12"
  }
 },
 "nbformat": 4,
 "nbformat_minor": 2
}
