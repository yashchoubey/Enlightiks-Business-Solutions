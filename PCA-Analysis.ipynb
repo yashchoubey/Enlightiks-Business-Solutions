{
 "cells": [
  {
   "cell_type": "code",
   "execution_count": 1,
   "metadata": {
    "scrolled": true
   },
   "outputs": [
    {
     "name": "stdout",
     "output_type": "stream",
     "text": [
      "feature_1: 0 missing values\n",
      "feature_2: 1178 missing values\n",
      "feature_3: 14956 missing values\n",
      "feature_4: 1992 missing values\n",
      "feature_5: 1992 missing values\n",
      "feature_6: 1992 missing values\n",
      "feature_7: 1992 missing values\n",
      "feature_8: 10785 missing values\n",
      "feature_10: 125 missing values\n",
      "feature_11: 1778 missing values\n",
      "feature_12: 7270 missing values\n",
      "feature_13: 11696 missing values\n",
      "feature_15: 1419 missing values\n",
      "feature_16: 1419 missing values\n",
      "feature_17: 6320 missing values\n",
      "feature_18: 8171 missing values\n",
      "feature_19: 5158 missing values\n",
      "Target: 13026 missing values\n"
     ]
    }
   ],
   "source": [
    "import pandas as pd\n",
    "df = pd.read_excel('Data for classification.xlsx', shuffle=True)\n",
    "df.drop('ID', axis=1, inplace=True)\n",
    "# df.drop('feature_3', axis=1, inplace=True)\n",
    "# df.drop('feature_8', axis=1, inplace=True)\n",
    "df.drop('feature_9', axis=1, inplace=True)\n",
    "# df.drop('feature_10', axis=1, inplace=True)\n",
    "# df.drop('feature_13', axis=1, inplace=True)\n",
    "df.drop('feature_14', axis=1, inplace=True)\n",
    "\n",
    "original=df\n",
    "for i in df.columns:\n",
    "    print (i + \": \"+str(sum(df[i].isnull()))+\" missing values\")"
   ]
  },
  {
   "cell_type": "code",
   "execution_count": 2,
   "metadata": {},
   "outputs": [],
   "source": [
    "# import matplotlib.pyplot as plt\n",
    "# df.plot(kind='line',subplots=True, layout=(10,2), sharex=False,figsize=(100,100))\n",
    "\n",
    "# plt.show()"
   ]
  },
  {
   "cell_type": "code",
   "execution_count": 3,
   "metadata": {},
   "outputs": [],
   "source": [
    "# for x in list(df):\n",
    "#     print x,df[x].unique()"
   ]
  },
  {
   "cell_type": "code",
   "execution_count": 4,
   "metadata": {},
   "outputs": [],
   "source": [
    "#clearly feature_9 is not relevant\n",
    "# df.describe()"
   ]
  },
  {
   "cell_type": "code",
   "execution_count": 5,
   "metadata": {},
   "outputs": [],
   "source": [
    "# df['feature_1'].hist().plot()"
   ]
  },
  {
   "cell_type": "code",
   "execution_count": 6,
   "metadata": {},
   "outputs": [],
   "source": [
    "# df['feature_2'].hist().plot()"
   ]
  },
  {
   "cell_type": "code",
   "execution_count": 7,
   "metadata": {},
   "outputs": [],
   "source": [
    "# df['feature_3'].hist().plot()"
   ]
  },
  {
   "cell_type": "code",
   "execution_count": 8,
   "metadata": {},
   "outputs": [],
   "source": [
    "# df['feature_4'].hist().plot()"
   ]
  },
  {
   "cell_type": "code",
   "execution_count": 9,
   "metadata": {},
   "outputs": [],
   "source": [
    "# df['feature_5'].hist().plot()"
   ]
  },
  {
   "cell_type": "code",
   "execution_count": 10,
   "metadata": {},
   "outputs": [],
   "source": [
    "# df['feature_6'].hist().plot()"
   ]
  },
  {
   "cell_type": "code",
   "execution_count": 11,
   "metadata": {},
   "outputs": [],
   "source": [
    "# df['feature_7'].hist().plot()"
   ]
  },
  {
   "cell_type": "code",
   "execution_count": 12,
   "metadata": {},
   "outputs": [],
   "source": [
    "# df['feature_8'].hist().plot()"
   ]
  },
  {
   "cell_type": "code",
   "execution_count": 13,
   "metadata": {},
   "outputs": [],
   "source": [
    "# df['feature_9'].hist().plot()"
   ]
  },
  {
   "cell_type": "code",
   "execution_count": 14,
   "metadata": {},
   "outputs": [],
   "source": [
    "# df['feature_10'].hist().plot()"
   ]
  },
  {
   "cell_type": "code",
   "execution_count": 15,
   "metadata": {},
   "outputs": [],
   "source": [
    "# df['feature_11'].hist().plot()"
   ]
  },
  {
   "cell_type": "code",
   "execution_count": 16,
   "metadata": {},
   "outputs": [],
   "source": [
    "# df['feature_12'].hist().plot()"
   ]
  },
  {
   "cell_type": "code",
   "execution_count": 17,
   "metadata": {},
   "outputs": [],
   "source": [
    "# df['feature_13'].hist().plot()"
   ]
  },
  {
   "cell_type": "code",
   "execution_count": 18,
   "metadata": {},
   "outputs": [],
   "source": [
    "# df['feature_14'].hist().plot()"
   ]
  },
  {
   "cell_type": "code",
   "execution_count": 19,
   "metadata": {},
   "outputs": [],
   "source": [
    "# df['feature_15'].hist().plot()"
   ]
  },
  {
   "cell_type": "code",
   "execution_count": 20,
   "metadata": {},
   "outputs": [],
   "source": [
    "# df['feature_16'].hist().plot()"
   ]
  },
  {
   "cell_type": "code",
   "execution_count": 21,
   "metadata": {},
   "outputs": [],
   "source": [
    "# df['feature_17'].hist().plot()"
   ]
  },
  {
   "cell_type": "code",
   "execution_count": 22,
   "metadata": {},
   "outputs": [],
   "source": [
    "# df['feature_18'].hist().plot()"
   ]
  },
  {
   "cell_type": "code",
   "execution_count": 23,
   "metadata": {},
   "outputs": [],
   "source": [
    "# df['feature_19'].hist().plot(kind='scatter')"
   ]
  },
  {
   "cell_type": "code",
   "execution_count": 24,
   "metadata": {},
   "outputs": [],
   "source": [
    "# df['Target'].hist().plot(kind='scatter')"
   ]
  },
  {
   "cell_type": "code",
   "execution_count": 25,
   "metadata": {},
   "outputs": [],
   "source": [
    "# # df.drop('ID', axis=1, inplace=True)\n",
    "# df.plot(kind='box', subplots=True, layout=(10,2), sharex=False,figsize=(10,10))\n",
    "# plt.show()"
   ]
  },
  {
   "cell_type": "code",
   "execution_count": 26,
   "metadata": {},
   "outputs": [],
   "source": [
    "# print(df.isnull().sum())\n",
    "# df['feature_1'].mean()\n",
    "# values={'feature_1':df['feature_1'].mean(),'feature_2':df['feature_2'].mean(),'feature_3':1,'feature_4':0,'feature_5':0,'feature_6':1,'feature_7':0,'feature_8':1,'feature_9':0,'feature_11':df['feature_11'].mean(),'feature_12':3,'feature_13':1,'feature_14':1,'feature_15':0,'feature_16':0,'feature_17':1,'feature_18':0,'feature_19':0,'Target':0}\n",
    "# df=df.fillna(value=values)\n",
    "# print(df.isnull().sum())"
   ]
  },
  {
   "cell_type": "code",
   "execution_count": 27,
   "metadata": {},
   "outputs": [],
   "source": [
    "# from pandas import read_csv\n",
    "# import numpy\n",
    "# from sklearn.preprocessing import Imputer\n",
    "# from sklearn.discriminant_analysis import LinearDiscriminantAnalysis\n",
    "# from sklearn.model_selection import KFold\n",
    "from sklearn.model_selection import cross_val_score\n",
    "# from sklearn.preprocessing import StandardScaler\n",
    "# from sklearn.decomposition import PCA\n"
   ]
  },
  {
   "cell_type": "code",
   "execution_count": 28,
   "metadata": {},
   "outputs": [],
   "source": [
    "# values = df.values\n",
    "# X = values[:,1:-1]\n",
    "# y = values[:,-1]\n",
    "# y=y.astype('int')\n",
    "# # Standardizing the features\n",
    "# print X.shape\n",
    "# X = StandardScaler().fit_transform(X)\n",
    "# print X.shape\n",
    "label=df['Target'].fillna(0)\n",
    "label=label.astype('int')\n",
    "df.drop('Target', axis=1, inplace=True)\n",
    "# df=StandardScaler().fit_transform(df)"
   ]
  },
  {
   "cell_type": "code",
   "execution_count": 29,
   "metadata": {},
   "outputs": [],
   "source": [
    "\n",
    "# evaluate an LDA model on the dataset using k-fold cross validation\n",
    "# model = LinearDiscriminantAnalysis()\n",
    "\n",
    "# f1_score=0\n",
    "# for i in range(1,16):\n",
    "#     pca = PCA(i)\n",
    "#     principalComponents = pca.fit_transform(df)\n",
    "#     for j in range(2,11):\n",
    "#         kfold = KFold(n_splits=j, random_state=7)\n",
    "#         result = cross_val_score(model, principalComponents, label, cv=kfold, scoring='f1')\n",
    "#         if f1_score<result.mean():\n",
    "#             f1_score=result.mean()\n",
    "#             print i,'------',(result.mean()),'------',j\n"
   ]
  },
  {
   "cell_type": "code",
   "execution_count": null,
   "metadata": {},
   "outputs": [],
   "source": [
    "\n"
   ]
  },
  {
   "cell_type": "code",
   "execution_count": 38,
   "metadata": {},
   "outputs": [
    {
     "name": "stdout",
     "output_type": "stream",
     "text": [
      "[u'feature_1', u'feature_2', u'feature_3', u'feature_4', u'feature_5', u'feature_6', u'feature_7', u'feature_8', u'feature_10', u'feature_11', u'feature_12', u'feature_13', u'feature_15', u'feature_16', u'feature_17', u'feature_18', u'feature_19']\n"
     ]
    },
    {
     "name": "stderr",
     "output_type": "stream",
     "text": [
      "/usr/local/lib/python2.7/dist-packages/sklearn/preprocessing/label.py:151: DeprecationWarning: The truth value of an empty array is ambiguous. Returning False, but in future this will result in an error. Use `array.size > 0` to check that an array is not empty.\n",
      "  if diff:\n",
      "/usr/local/lib/python2.7/dist-packages/sklearn/preprocessing/label.py:151: DeprecationWarning: The truth value of an empty array is ambiguous. Returning False, but in future this will result in an error. Use `array.size > 0` to check that an array is not empty.\n",
      "  if diff:\n"
     ]
    },
    {
     "name": "stdout",
     "output_type": "stream",
     "text": [
      "0.7415479656622108\n"
     ]
    },
    {
     "name": "stderr",
     "output_type": "stream",
     "text": [
      "/usr/local/lib/python2.7/dist-packages/sklearn/preprocessing/label.py:151: DeprecationWarning: The truth value of an empty array is ambiguous. Returning False, but in future this will result in an error. Use `array.size > 0` to check that an array is not empty.\n",
      "  if diff:\n"
     ]
    }
   ],
   "source": [
    "import numpy as np\n",
    "\n",
    "print list(df)\n",
    "# values = df.values\n",
    "# X = values[:,:-1]\n",
    "# y = values[:,-1]\n",
    "# y=np.nan_to_num(y)\n",
    "# print y.describe()\n",
    "\n",
    "from xgboost import XGBClassifier\n",
    "model = XGBClassifier()\n",
    "result = cross_val_score(model, df, label,  scoring='f1')\n",
    "print result.mean()"
   ]
  },
  {
   "cell_type": "code",
   "execution_count": 31,
   "metadata": {},
   "outputs": [
    {
     "name": "stdout",
     "output_type": "stream",
     "text": [
      "0.7415479656622108\n"
     ]
    }
   ],
   "source": [
    "print result.mean()"
   ]
  },
  {
   "cell_type": "code",
   "execution_count": 32,
   "metadata": {},
   "outputs": [
    {
     "data": {
      "text/plain": [
       "count    15070.000000\n",
       "mean         0.109954\n",
       "std          0.312842\n",
       "min          0.000000\n",
       "25%          0.000000\n",
       "50%          0.000000\n",
       "75%          0.000000\n",
       "max          1.000000\n",
       "Name: Target, dtype: float64"
      ]
     },
     "execution_count": 32,
     "metadata": {},
     "output_type": "execute_result"
    }
   ],
   "source": [
    "label.describe()"
   ]
  },
  {
   "cell_type": "code",
   "execution_count": null,
   "metadata": {},
   "outputs": [],
   "source": []
  },
  {
   "cell_type": "code",
   "execution_count": null,
   "metadata": {},
   "outputs": [],
   "source": []
  },
  {
   "cell_type": "code",
   "execution_count": null,
   "metadata": {},
   "outputs": [],
   "source": []
  },
  {
   "cell_type": "code",
   "execution_count": null,
   "metadata": {},
   "outputs": [],
   "source": []
  },
  {
   "cell_type": "code",
   "execution_count": null,
   "metadata": {},
   "outputs": [],
   "source": []
  }
 ],
 "metadata": {
  "kernelspec": {
   "display_name": "Python 2",
   "language": "python",
   "name": "python2"
  },
  "language_info": {
   "codemirror_mode": {
    "name": "ipython",
    "version": 2
   },
   "file_extension": ".py",
   "mimetype": "text/x-python",
   "name": "python",
   "nbconvert_exporter": "python",
   "pygments_lexer": "ipython2",
   "version": "2.7.12"
  }
 },
 "nbformat": 4,
 "nbformat_minor": 2
}
